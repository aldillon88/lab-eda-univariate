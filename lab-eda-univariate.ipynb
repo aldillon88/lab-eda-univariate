{
 "cells": [
  {
   "cell_type": "code",
   "execution_count": 19,
   "id": "b8dbae18-5111-49f0-9ee2-7ed23dfd26b7",
   "metadata": {},
   "outputs": [],
   "source": [
    "import pandas as pd\n",
    "import matplotlib.pyplot as plt\n",
    "import seaborn as sns\n",
    "import numpy as np\n",
    "\n",
    "%matplotlib inline"
   ]
  },
  {
   "cell_type": "code",
   "execution_count": 20,
   "id": "c18952b2-443c-450f-9ed2-0bfcc038d4d5",
   "metadata": {},
   "outputs": [
    {
     "data": {
      "text/html": [
       "<div>\n",
       "<style scoped>\n",
       "    .dataframe tbody tr th:only-of-type {\n",
       "        vertical-align: middle;\n",
       "    }\n",
       "\n",
       "    .dataframe tbody tr th {\n",
       "        vertical-align: top;\n",
       "    }\n",
       "\n",
       "    .dataframe thead th {\n",
       "        text-align: right;\n",
       "    }\n",
       "</style>\n",
       "<table border=\"1\" class=\"dataframe\">\n",
       "  <thead>\n",
       "    <tr style=\"text-align: right;\">\n",
       "      <th></th>\n",
       "      <th>uid</th>\n",
       "      <th>asin</th>\n",
       "      <th>title</th>\n",
       "      <th>stars</th>\n",
       "      <th>reviews</th>\n",
       "      <th>price</th>\n",
       "      <th>isBestSeller</th>\n",
       "      <th>boughtInLastMonth</th>\n",
       "      <th>category</th>\n",
       "    </tr>\n",
       "  </thead>\n",
       "  <tbody>\n",
       "    <tr>\n",
       "      <th>0</th>\n",
       "      <td>1</td>\n",
       "      <td>B09B96TG33</td>\n",
       "      <td>Echo Dot (5th generation, 2022 release) | Big ...</td>\n",
       "      <td>4.7</td>\n",
       "      <td>15308</td>\n",
       "      <td>21.99</td>\n",
       "      <td>False</td>\n",
       "      <td>0</td>\n",
       "      <td>Hi-Fi Speakers</td>\n",
       "    </tr>\n",
       "    <tr>\n",
       "      <th>1</th>\n",
       "      <td>2</td>\n",
       "      <td>B01HTH3C8S</td>\n",
       "      <td>Anker Soundcore mini, Super-Portable Bluetooth...</td>\n",
       "      <td>4.7</td>\n",
       "      <td>98099</td>\n",
       "      <td>23.99</td>\n",
       "      <td>True</td>\n",
       "      <td>0</td>\n",
       "      <td>Hi-Fi Speakers</td>\n",
       "    </tr>\n",
       "    <tr>\n",
       "      <th>2</th>\n",
       "      <td>3</td>\n",
       "      <td>B09B8YWXDF</td>\n",
       "      <td>Echo Dot (5th generation, 2022 release) | Big ...</td>\n",
       "      <td>4.7</td>\n",
       "      <td>15308</td>\n",
       "      <td>21.99</td>\n",
       "      <td>False</td>\n",
       "      <td>0</td>\n",
       "      <td>Hi-Fi Speakers</td>\n",
       "    </tr>\n",
       "    <tr>\n",
       "      <th>3</th>\n",
       "      <td>4</td>\n",
       "      <td>B09B8T5VGV</td>\n",
       "      <td>Echo Dot with clock (5th generation, 2022 rele...</td>\n",
       "      <td>4.7</td>\n",
       "      <td>7205</td>\n",
       "      <td>31.99</td>\n",
       "      <td>False</td>\n",
       "      <td>0</td>\n",
       "      <td>Hi-Fi Speakers</td>\n",
       "    </tr>\n",
       "    <tr>\n",
       "      <th>4</th>\n",
       "      <td>5</td>\n",
       "      <td>B09WX6QD65</td>\n",
       "      <td>Introducing Echo Pop | Full sound compact Wi-F...</td>\n",
       "      <td>4.6</td>\n",
       "      <td>1881</td>\n",
       "      <td>17.99</td>\n",
       "      <td>False</td>\n",
       "      <td>0</td>\n",
       "      <td>Hi-Fi Speakers</td>\n",
       "    </tr>\n",
       "  </tbody>\n",
       "</table>\n",
       "</div>"
      ],
      "text/plain": [
       "   uid        asin                                              title  stars  \\\n",
       "0    1  B09B96TG33  Echo Dot (5th generation, 2022 release) | Big ...    4.7   \n",
       "1    2  B01HTH3C8S  Anker Soundcore mini, Super-Portable Bluetooth...    4.7   \n",
       "2    3  B09B8YWXDF  Echo Dot (5th generation, 2022 release) | Big ...    4.7   \n",
       "3    4  B09B8T5VGV  Echo Dot with clock (5th generation, 2022 rele...    4.7   \n",
       "4    5  B09WX6QD65  Introducing Echo Pop | Full sound compact Wi-F...    4.6   \n",
       "\n",
       "   reviews  price  isBestSeller  boughtInLastMonth        category  \n",
       "0    15308  21.99         False                  0  Hi-Fi Speakers  \n",
       "1    98099  23.99          True                  0  Hi-Fi Speakers  \n",
       "2    15308  21.99         False                  0  Hi-Fi Speakers  \n",
       "3     7205  31.99         False                  0  Hi-Fi Speakers  \n",
       "4     1881  17.99         False                  0  Hi-Fi Speakers  "
      ]
     },
     "execution_count": 20,
     "metadata": {},
     "output_type": "execute_result"
    }
   ],
   "source": [
    "path = 'amz_uk_price_prediction_dataset.csv'\n",
    "df = pd.read_csv(path)\n",
    "df.head()"
   ]
  },
  {
   "cell_type": "markdown",
   "id": "4a292694-8517-453e-8d52-c720e81007c8",
   "metadata": {},
   "source": [
    "**Part 1: Understanding Product Categories**\\\n",
    "What are the most popular product categories on Amazon UK, and how do they compare in terms of listing frequency?\n",
    "\n",
    "1. Frequency Tables:\n",
    "- Generate a frequency table for the product category.\n",
    "- Which are the top 5 most listed product categories?\n",
    "\n",
    "2. Visualizations:\n",
    "- Display the distribution of products across different categories using a bar chart. If you face problems understanding the chart, do it for a subset of top categories.\n",
    "- For a subset of top categories, visualize their proportions using a pie chart. Does any category dominate the listings?"
   ]
  },
  {
   "cell_type": "code",
   "execution_count": 34,
   "id": "c183e28d-4545-4961-9f6a-ea7b58411318",
   "metadata": {},
   "outputs": [
    {
     "data": {
      "text/html": [
       "<div>\n",
       "<style scoped>\n",
       "    .dataframe tbody tr th:only-of-type {\n",
       "        vertical-align: middle;\n",
       "    }\n",
       "\n",
       "    .dataframe tbody tr th {\n",
       "        vertical-align: top;\n",
       "    }\n",
       "\n",
       "    .dataframe thead th {\n",
       "        text-align: right;\n",
       "    }\n",
       "</style>\n",
       "<table border=\"1\" class=\"dataframe\">\n",
       "  <thead>\n",
       "    <tr style=\"text-align: right;\">\n",
       "      <th></th>\n",
       "      <th>category</th>\n",
       "      <th>count</th>\n",
       "    </tr>\n",
       "  </thead>\n",
       "  <tbody>\n",
       "    <tr>\n",
       "      <th>0</th>\n",
       "      <td>Sports &amp; Outdoors</td>\n",
       "      <td>836265</td>\n",
       "    </tr>\n",
       "    <tr>\n",
       "      <th>1</th>\n",
       "      <td>Beauty</td>\n",
       "      <td>19312</td>\n",
       "    </tr>\n",
       "    <tr>\n",
       "      <th>2</th>\n",
       "      <td>Handmade Clothing, Shoes &amp; Accessories</td>\n",
       "      <td>19229</td>\n",
       "    </tr>\n",
       "    <tr>\n",
       "      <th>3</th>\n",
       "      <td>Bath &amp; Body</td>\n",
       "      <td>19092</td>\n",
       "    </tr>\n",
       "    <tr>\n",
       "      <th>4</th>\n",
       "      <td>Birthday Gifts</td>\n",
       "      <td>18978</td>\n",
       "    </tr>\n",
       "  </tbody>\n",
       "</table>\n",
       "</div>"
      ],
      "text/plain": [
       "                                 category   count\n",
       "0                       Sports & Outdoors  836265\n",
       "1                                  Beauty   19312\n",
       "2  Handmade Clothing, Shoes & Accessories   19229\n",
       "3                             Bath & Body   19092\n",
       "4                          Birthday Gifts   18978"
      ]
     },
     "execution_count": 34,
     "metadata": {},
     "output_type": "execute_result"
    }
   ],
   "source": [
    "frequency_table = df.category.value_counts().reset_index()\n",
    "frequency_table.columns = ['category', 'count']\n",
    "frequency_table_top_5 = frequency_table.head(5)\n",
    "frequency_table_top_5"
   ]
  },
  {
   "cell_type": "code",
   "execution_count": 51,
   "id": "e1e6c135-5cac-4e8c-a596-b747e9fac6ab",
   "metadata": {},
   "outputs": [
    {
     "data": {
      "text/plain": [
       "<Axes: xlabel='count', ylabel='category'>"
      ]
     },
     "execution_count": 51,
     "metadata": {},
     "output_type": "execute_result"
    },
    {
     "data": {
      "image/png": "[encoded data removed]",
      "text/plain": [
       "<Figure size 640x480 with 1 Axes>"
      ]
     },
     "metadata": {},
     "output_type": "display_data"
    }
   ],
   "source": [
    "sns.barplot(y=frequency_table_top_5['category'], x=frequency_table_top_5['count'], palette=\"Set3\")"
   ]
  },
  {
   "cell_type": "code",
   "execution_count": 47,
   "id": "c0431cd9-f653-410c-95e3-7af2450aeb22",
   "metadata": {},
   "outputs": [
    {
     "data": {
      "text/plain": [
       "<Axes: ylabel='count'>"
      ]
     },
     "execution_count": 47,
     "metadata": {},
     "output_type": "execute_result"
    },
    {
     "data": {
      "image/png": "[encoded data removed]",
      "text/plain": [
       "<Figure size 640x480 with 1 Axes>"
      ]
     },
     "metadata": {},
     "output_type": "display_data"
    }
   ],
   "source": [
    "df.category.value_counts().head(5).plot.pie(autopct='%1.1f%%', startangle=90, colors=sns.color_palette(\"Set3\"))"
   ]
  },
  {
   "cell_type": "markdown",
   "id": "759bdbfe-3815-49c0-8199-67e0ddbea100",
   "metadata": {},
   "source": [
    "**Part 2: Delving into Product Pricing**\\\n",
    "Business Question: How are products priced on Amazon UK, and are there specific price points or ranges that are more common?\n",
    "\n",
    "1. Measures of Centrality:\n",
    "- Calculate the mean, median, and mode for the price of products.\n",
    "- What's the average price point of products listed? How does this compare with the most common price point (mode)?\n",
    "\n",
    "2. Measures of Dispersion:\n",
    "- Determine the variance, standard deviation, range, and interquartile range for product price.\n",
    "- How varied are the product prices? Are there any indicators of a significant spread in prices?\n",
    "\n",
    "3. Visualizations:\n",
    "- Is there a specific price range where most products fall? Plot a histogram to visualize the distribution of product prices. If its hard to read these diagrams, think why this is, and explain how it could be solved..\n",
    "- Are there products that are priced significantly higher than the rest? Use a box plot to showcase the spread and potential outliers in product pricing."
   ]
  },
  {
   "cell_type": "code",
   "execution_count": 80,
   "id": "c0b118a8-970c-4e25-be07-9cbc1a194510",
   "metadata": {},
   "outputs": [
    {
     "name": "stdout",
     "output_type": "stream",
     "text": [
      "The mean is: 89.24380943923663\n",
      "The median is: 19.09\n",
      "The mode is: 9.99\n"
     ]
    }
   ],
   "source": [
    "mean = df.price.mean()\n",
    "median = df.price.median()\n",
    "mode = df.price.mode()\n",
    "\n",
    "print(\n",
    "    f\"The mean is: {mean}\\n\"\n",
    "    f\"The median is: {median}\\n\"\n",
    "    f\"The mode is: {mode[0]}\"\n",
    ")"
   ]
  },
  {
   "cell_type": "code",
   "execution_count": 70,
   "id": "4b4cfa63-a4e4-425c-b8b8-ac36faf93337",
   "metadata": {},
   "outputs": [
    {
     "data": {
      "text/plain": [
       "(345.6088617535223, 119445.4853225653, 100000.0, 36.0)"
      ]
     },
     "execution_count": 70,
     "metadata": {},
     "output_type": "execute_result"
    }
   ],
   "source": [
    "sd = df.price.std()\n",
    "var = df.price.var()\n",
    "price_range = df.price.max() - df.price.min()\n",
    "quantiles = df.price.quantile([0.25, 0.75])\n",
    "interquartile_range = quantiles[0.75] - quantiles[0.25]\n",
    "sd, var, price_range, interquartile_range\n",
    "\n",
    "# There appears to be a wide spread in prices given that the price_range is 100000.\n",
    "# However, most of the products are priced within a much tighter range of 36."
   ]
  },
  {
   "cell_type": "code",
   "execution_count": 74,
   "id": "eb41c015-7d2a-4244-9f56-cb1cc7758a48",
   "metadata": {},
   "outputs": [
    {
     "name": "stderr",
     "output_type": "stream",
     "text": [
      "/opt/anaconda3/lib/python3.11/site-packages/seaborn/_oldcore.py:1119: FutureWarning: use_inf_as_na option is deprecated and will be removed in a future version. Convert inf values to NaN before operating instead.\n",
      "  with pd.option_context('mode.use_inf_as_na', True):\n"
     ]
    },
    {
     "data": {
      "text/plain": [
       "<Axes: xlabel='price', ylabel='Count'>"
      ]
     },
     "execution_count": 74,
     "metadata": {},
     "output_type": "execute_result"
    },
    {
     "data": {
      "image/png": "[encoded data removed]",
      "text/plain": [
       "<Figure size 640x480 with 1 Axes>"
      ]
     },
     "metadata": {},
     "output_type": "display_data"
    }
   ],
   "source": [
    "sns.histplot(df.price, kde=True, bins=100, color=\"salmon\")"
   ]
  },
  {
   "cell_type": "code",
   "execution_count": 81,
   "id": "ac6e1a38-7c7c-4e91-aeb3-6f682b7633dd",
   "metadata": {},
   "outputs": [
    {
     "data": {
      "text/plain": [
       "<Axes: >"
      ]
     },
     "execution_count": 81,
     "metadata": {},
     "output_type": "execute_result"
    },
    {
     "data": {
      "image/png": "[encoded data removed]",
      "text/plain": [
       "<Figure size 640x480 with 1 Axes>"
      ]
     },
     "metadata": {},
     "output_type": "display_data"
    }
   ],
   "source": [
    "sns.boxplot(data = df.price, color=\"lightblue\")\n",
    "\n",
    "# Based on the charts above, the vast majority of prices fall within a tight range much closed to 0.\n",
    "# There apear to be outliers above the upper wisker that provide a significant positive skew to the distribution."
   ]
  },
  {
   "cell_type": "markdown",
   "id": "36af505d-0b4c-4353-95dc-e59c32c928bb",
   "metadata": {},
   "source": [
    "**Part 3: Unpacking Product Ratings**\n",
    "\n",
    "Business Question: How do customers rate products on Amazon UK, and are there any patterns or tendencies in the ratings?\n",
    "\n",
    "1. Measures of Centrality:\n",
    "- Calculate the mean, median, and mode for the `rating` of products.\n",
    "- How do customers generally rate products? Is there a common trend?\n",
    "\n",
    "2. Measures of Dispersion:\n",
    "- Determine the variance, standard deviation, and interquartile range for product `rating`.\n",
    "- Are the ratings consistent, or is there a wide variation in customer feedback?\n",
    "\n",
    "3. Shape of the Distribution:\n",
    "- Calculate the skewness and kurtosis for the `rating` column.\n",
    "- Are the ratings normally distributed, or do they lean towards higher or lower values?\n",
    "\n",
    "4. Visualizations:\n",
    "- Plot a histogram to visualize the distribution of product ratings. Is there a specific rating that is more common?"
   ]
  },
  {
   "cell_type": "code",
   "execution_count": 83,
   "id": "96306fa3-8573-4a57-a02a-af09a1d52766",
   "metadata": {},
   "outputs": [
    {
     "name": "stdout",
     "output_type": "stream",
     "text": [
      "The mean is: 2.152836472966065\n",
      "The median is: 0.0\n",
      "The mode is: 0.0\n",
      "\n"
     ]
    }
   ],
   "source": [
    "mean = df.stars.mean()\n",
    "median = df.stars.median()\n",
    "mode = df.stars.mode()\n",
    "\n",
    "print(\n",
    "    f\"The mean is: {mean}\\n\"\n",
    "    f\"The median is: {median}\\n\"\n",
    "    f\"The mode is: {mode[0]}\\n\"\n",
    ")\n",
    "\n",
    "# It appears as though most ratings are very low assuming that products can be rated from 0-5 stars."
   ]
  },
  {
   "cell_type": "code",
   "execution_count": 85,
   "id": "101d582b-25a6-4d05-b127-12ddc0898055",
   "metadata": {},
   "outputs": [
    {
     "name": "stdout",
     "output_type": "stream",
     "text": [
      "The standard deviation is: 2.1948653785054697\n",
      "The variance is: 4.81743402976196\n",
      "The ratings range is: 5.0\n",
      "The interquartile range is: 4.4\n"
     ]
    }
   ],
   "source": [
    "sd = df.stars.std()\n",
    "var = df.stars.var()\n",
    "ratings_range = df.stars.max() - df.stars.min()\n",
    "quantiles = df.stars.quantile([0.25, 0.75])\n",
    "interquartile_range = quantiles[0.75] - quantiles[0.25]\n",
    "sd, var, ratings_range, interquartile_range\n",
    "\n",
    "print(\n",
    "    f\"The standard deviation is: {sd}\\n\"\n",
    "    f\"The variance is: {var}\\n\"\n",
    "    f\"The ratings range is: {ratings_range}\\n\"\n",
    "    f\"The interquartile range is: {interquartile_range}\"\n",
    ")\n",
    "\n",
    "# It appears as though there is a significant range in ratings, given the fact that products can be 1-5 stars and the interquartile\n",
    "# range is 4.4."
   ]
  },
  {
   "cell_type": "code",
   "execution_count": 90,
   "id": "1a3e723c-5f36-4dc4-a457-033c7dac582f",
   "metadata": {},
   "outputs": [
    {
     "name": "stdout",
     "output_type": "stream",
     "text": [
      "The skew is: 0.08120735761080985\n",
      "The kurtosis is: -1.9260061280432985\n"
     ]
    }
   ],
   "source": [
    "skewness_stars = df.stars.skew()\n",
    "kurtosis_stars = df.stars.kurtosis()\n",
    "\n",
    "print(\n",
    "    f\"The skew is: {skewness_stars}\\n\"\n",
    "    f\"The kurtosis is: {kurtosis_stars}\"\n",
    ")\n",
    "\n",
    "# A slightly positive skew exists, however, it does not appear to be statistically significant.\n",
    "# A kurtosis of -1.93 indicates that the dataset is likely to have fewer extreme values (outliers) and the data points\n",
    "# are more evenly spread around the mean, resulting in a flatter distribution."
   ]
  },
  {
   "cell_type": "markdown",
   "id": "30cc069e-6fb2-4d2c-afbc-f033316b5263",
   "metadata": {},
   "source": [
    "**Business Report**\n",
    "\n",
    "1. A significant positive skew exists in the distribution of products across product categories, due to the exceptionally large number of products in the \"Sports & Outdoors\" category.\n",
    "2. Some outliers in price also cause a significant positive skew, as the vast majority of products are priced within a much tighter range around the $20 point.\n",
    "3. The is a fairly even and flat distribution across product ratings as reported by \"stars\". This is proven through a low skew of 0.08 and negative kurtosis of -1.9."
   ]
  }
 ],
 "metadata": {
  "kernelspec": {
   "display_name": "Python 3 (ipykernel)",
   "language": "python",
   "name": "python3"
  },
  "language_info": {
   "codemirror_mode": {
    "name": "ipython",
    "version": 3
   },
   "file_extension": ".py",
   "mimetype": "text/x-python",
   "name": "python",
   "nbconvert_exporter": "python",
   "pygments_lexer": "ipython3",
   "version": "3.11.7"
  }
 },
 "nbformat": 4,
 "nbformat_minor": 5
}
